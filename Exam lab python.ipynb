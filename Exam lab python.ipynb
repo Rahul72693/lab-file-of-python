{
 "cells": [
  {
   "cell_type": "code",
   "execution_count": 12,
   "id": "16fcabec-93f6-47d9-8d8a-022d869c6d2f",
   "metadata": {},
   "outputs": [
    {
     "name": "stdin",
     "output_type": "stream",
     "text": [
      "Enter a list of integers (space-separated):  1 2 4 5 6\n"
     ]
    },
    {
     "name": "stdout",
     "output_type": "stream",
     "text": [
      "List of integers: [1, 2, 4, 5, 6]\n"
     ]
    }
   ],
   "source": [
    "\n",
    "# Take input from the user as space-separated values\n",
    "user_input = input(\"Enter a list of integers (space-separated): \")\n",
    "\n",
    "# Split the input string by spaces and convert each element to an integer\n",
    "integer_list = [int(x) for x in user_input.split()]\n",
    "\n",
    "# Print the resulting list of integers\n",
    "print(\"List of integers:\", integer_list)\n",
    "\n",
    "\n"
   ]
  },
  {
   "cell_type": "code",
   "execution_count": 3,
   "id": "fc51f2f6-7807-4b43-8891-3b38d57f8e18",
   "metadata": {},
   "outputs": [
    {
     "name": "stdout",
     "output_type": "stream",
     "text": [
      "* * * * * \n",
      "*       * \n",
      "*       * \n",
      "*       * \n",
      "* * * * * \n"
     ]
    }
   ],
   "source": [
    "#print hollow sq. pattern\n",
    "n = 5 \n",
    "for i in range(n):\n",
    "    for j in range(n):\n",
    "        if i == 0 or i == n-1 or j == 0 or j == n-1:\n",
    "            print(\"*\", end=\" \")\n",
    "        else:\n",
    "            print(\" \", end=\" \")\n",
    "    print()\n"
   ]
  },
  {
   "cell_type": "code",
   "execution_count": 4,
   "id": "a349228e-e12d-4a37-9749-e9007a8f89e0",
   "metadata": {},
   "outputs": [
    {
     "name": "stdout",
     "output_type": "stream",
     "text": [
      "Even numbers: [2, 4, 6, 8, 10]\n"
     ]
    }
   ],
   "source": [
    "# creating new list from old\n",
    "original_list = [1, 2, 3, 4, 5, 6, 7, 8, 9, 10]\n",
    "even_list = [num for num in original_list if num % 2 == 0]\n",
    "print(\"Even numbers:\", even_list)\n",
    "\n"
   ]
  },
  {
   "cell_type": "code",
   "execution_count": 5,
   "id": "39ae8bb8-0e3d-4c56-8b3d-5b4137271a56",
   "metadata": {},
   "outputs": [
    {
     "name": "stdout",
     "output_type": "stream",
     "text": [
      "Original list: [1, 2, 3, 4, 5, 6, 7, 8, 9, 10]\n",
      "New list with even numbers: [2, 4, 6, 8, 10]\n"
     ]
    }
   ],
   "source": [
    "# Original list\n",
    "original_list = [1, 2, 3, 4, 5, 6, 7, 8, 9, 10]\n",
    "\n",
    "# Create a new list with even numbers\n",
    "even_list = [num for num in original_list if num % 2 == 0]\n",
    "\n",
    "# Print both lists\n",
    "print(\"Original list:\", original_list)\n",
    "print(\"New list with even numbers:\", even_list)\n"
   ]
  },
  {
   "cell_type": "code",
   "execution_count": 6,
   "id": "56928c12-028d-4d1d-ba62-9a16bf2f169d",
   "metadata": {},
   "outputs": [
    {
     "name": "stdin",
     "output_type": "stream",
     "text": [
      "Enter a positive decimal number:  6\n"
     ]
    },
    {
     "name": "stdout",
     "output_type": "stream",
     "text": [
      "You entered: 6.0\n"
     ]
    }
   ],
   "source": [
    "#accept +ve decimal no\n",
    "num = float(input(\"Enter a positive decimal number: \"))\n",
    "\n",
    "if num > 0:\n",
    "    print(\"You entered:\", num)\n",
    "else:\n",
    "    print(\"The number must be positive.\")\n",
    "\n"
   ]
  },
  {
   "cell_type": "code",
   "execution_count": 7,
   "id": "074c4df1-d2f5-4dcf-b9a4-0132f2ca483f",
   "metadata": {},
   "outputs": [
    {
     "name": "stdin",
     "output_type": "stream",
     "text": [
      "Enter a positive decimal number:  5\n"
     ]
    },
    {
     "name": "stdout",
     "output_type": "stream",
     "text": [
      "Binary representation: 101\n"
     ]
    }
   ],
   "source": [
    "\n",
    "#use a loop\n",
    "num = int(input(\"Enter a positive decimal number: \"))\n",
    "\n",
    "binary = \"\"  # To store binary digits\n",
    "\n",
    "while num > 0:\n",
    "    binary = str(num % 2) + binary  # get remainder and add to binary string\n",
    "    num = num // 2  \n",
    "\n",
    "print(\"Binary representation:\", binary)\n"
   ]
  },
  {
   "cell_type": "code",
   "execution_count": 8,
   "id": "7633968a-b7de-4acd-94f9-029b3c24de9f",
   "metadata": {},
   "outputs": [
    {
     "name": "stdin",
     "output_type": "stream",
     "text": [
      "Enter a positive decimal number:  8\n"
     ]
    },
    {
     "name": "stdout",
     "output_type": "stream",
     "text": [
      "Binary representation: 1000\n"
     ]
    }
   ],
   "source": [
    "#binary representation\n",
    "num = int(input(\"Enter a positive decimal number: \"))\n",
    "\n",
    "if num <= 0:\n",
    "    print(\"Please enter a positive number.\")\n",
    "else:\n",
    "    binary = \"\"  # store binary digits\n",
    "    while num > 0:\n",
    "        #get remainder and add to binary string\n",
    "        binary = str(num % 2) + binary  \n",
    "        num = num // 2 \n",
    "\n",
    "    print(\"Binary representation:\", binary)\n"
   ]
  },
  {
   "cell_type": "code",
   "execution_count": null,
   "id": "4a442994-4b6f-4844-80f7-b2f612c37335",
   "metadata": {},
   "outputs": [],
   "source": []
  }
 ],
 "metadata": {
  "kernelspec": {
   "display_name": "Python 3 (ipykernel)",
   "language": "python",
   "name": "python3"
  },
  "language_info": {
   "codemirror_mode": {
    "name": "ipython",
    "version": 3
   },
   "file_extension": ".py",
   "mimetype": "text/x-python",
   "name": "python",
   "nbconvert_exporter": "python",
   "pygments_lexer": "ipython3",
   "version": "3.11.7"
  }
 },
 "nbformat": 4,
 "nbformat_minor": 5
}
